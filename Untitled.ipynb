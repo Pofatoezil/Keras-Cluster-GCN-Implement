{
 "cells": [
  {
   "cell_type": "markdown",
   "metadata": {},
   "source": [
    "# How to Intall metis 5.1.0 in Win10"
   ]
  },
  {
   "cell_type": "markdown",
   "metadata": {},
   "source": [
    "最近研究一篇論文  \n",
    "2019 Cluster-GCN: An Efficient Algorithm for Training Deep and Large Graph Convolutional Networks  \n",
    "論文實現需要使用graph clustering 的工具 [Metis](http://glaros.dtc.umn.edu/gkhome/metis/metis/download)\n",
    "除此之外 還需要python的[warper](https://metis.readthedocs.io/en/latest/#installation) (這個安裝用 pip install即可，不多說明)  \n",
    "在安裝的過程中花了很多時間採坑，中間看到有個pymetis的套件看起來安裝好像比較簡單，但是遇到一堆問題  \n",
    "最後還是按照paper的做法安裝metis 與python warpper，因此記錄安裝的流程並分享給大家"
   ]
  },
  {
   "cell_type": "markdown",
   "metadata": {},
   "source": [
    "## Envirement"
   ]
  },
  {
   "cell_type": "markdown",
   "metadata": {},
   "source": [
    "OS: Win10 x64  \n",
    "Python 3.7"
   ]
  },
  {
   "cell_type": "markdown",
   "metadata": {},
   "source": [
    "## Requirement"
   ]
  },
  {
   "cell_type": "markdown",
   "metadata": {},
   "source": [
    "1. [Cmake 2.8](https://cmake.org/) (in metis document)\n",
    "2. [Visual Studio](https://visualstudio.microsoft.com/zh-hant/downloads/?rr=https%3A%2F%2Fwww.google.com%2F)\n",
    " \n",
    "這裡我選擇安裝  Cmake 3.16  與 Visual Studio 2019(x64) \n",
    "順便一提，會選擇這樣的版本是因為使用 Cmake 建立 metis 的時候，Cmake 2.8 只支援到 Visual Studio 2013  \n",
    "相信只要抓相容的Visual Studio，Cmake 2.8 也是可以的  \n",
    "Visual Studio 安裝的時候記得勾選 \"使用C++的桌面開發\"(desktop application development using c++)"
   ]
  },
  {
   "cell_type": "code",
   "execution_count": 3,
   "metadata": {},
   "outputs": [
    {
     "data": {
      "text/html": [
       "<img src=\"vs2019.png\">\n"
      ],
      "text/plain": [
       "<IPython.core.display.HTML object>"
      ]
     },
     "metadata": {},
     "output_type": "display_data"
    }
   ],
   "source": [
    "%%html\n",
    "<img src=\"vs2019.png\">"
   ]
  },
  {
   "cell_type": "markdown",
   "metadata": {},
   "source": [
    "## Download metis and unzip"
   ]
  },
  {
   "cell_type": "markdown",
   "metadata": {},
   "source": [
    "你可以在這裡下載[Metis](http://glaros.dtc.umn.edu/gkhome/metis/metis/download)  \n",
    "下載完畢後解壓縮"
   ]
  },
  {
   "cell_type": "markdown",
   "metadata": {},
   "source": [
    "## Metis document"
   ]
  },
  {
   "cell_type": "markdown",
   "metadata": {},
   "source": [
    "將Metis 打開以後，你可以在裡面看到三個安裝文檔: \"install.txt\" , \"Build.txt\" , \"Build-Windows.txt\""
   ]
  },
  {
   "cell_type": "markdown",
   "metadata": {},
   "source": [
    "### Install.txt"
   ]
  },
  {
   "cell_type": "markdown",
   "metadata": {},
   "source": [
    "\n",
    "These are some preliminary instructions for the 5.0 release of METIS.\n",
    "\n",
    "1. You need to have a C compiler that supports the C99 standard. \n",
    "   Gcc works just fine, but I have not tested it on many other architectures\n",
    "   (any feedback/patches for different architectures are welcomed)\n",
    "   \n",
    "2. You need to have GNU make and CMake 2.8 (http://www.cmake.org/) installed.\n",
    "\n",
    "3. Edit the file include/metis.h and specify the width (32 or 64 bits) of the\n",
    "   elementary data type used in METIS. This is controled by the IDXTYPEWIDTH\n",
    "   constant.\n",
    "\n",
    "   For now, on a 32 bit architecture you can only specify a width of 32, \n",
    "   whereas for a 64 bit architecture you can specify a width of either \n",
    "   32 or 64 bits.\n",
    "\n",
    "\n",
    "4. At the top of Metis' directory execute 'make' and follow the instructions.\n",
    "   \n",
    "      make\n",
    "\n",
    "5. To build on windows using Visual Studio follow the instructions in the\n",
    "   file BUILD-Windows.txt.\n"
   ]
  },
  {
   "cell_type": "markdown",
   "metadata": {},
   "source": [
    "### Build-Windows.txt"
   ]
  },
  {
   "cell_type": "markdown",
   "metadata": {},
   "source": [
    "Building METIS requires CMake 2.8, found at\n",
    "http://www.cmake.org/. CMake generates Visual Studio project files,\n",
    "which then can be built using Visual Studio. There are two ways to\n",
    "generate visual studio files: using the command line and using the\n",
    "CMake GUI.\n",
    "\n",
    "<font size=4>Using the command line</font>\n",
    "\n",
    "Open the command prompt and cd to the METIS source directory. Run\n",
    "\n",
    "    > cmake --help\n",
    "\n",
    "and look at the list of generators for the Visual Studio studio you\n",
    "want to build for. For example, the generator for Visual Studio 2010\n",
    "is called \"Visual Studio 10\".\n",
    "\n",
    "After you have found the appropriate generator, run\n",
    "\n",
    "    > .\\vsgen -G \"<GENERATOR>\"\n",
    "\n",
    "to generate the project files. The project files will be placed\n",
    "build\\windows.\n",
    "\n",
    "\n",
    "<font size=4>Using the CMake GUI</font>\n",
    "\n",
    "It is also possible to use the CMake GUI, distributed with CMake. To\n",
    "do this, open the CMake GUI, and browse to the location of METIS'\n",
    "source with the \"Browse Source\" button. You can also change the binary\n",
    "directory. This is where the Visual Studio project files will be\n",
    "placed. Click \"Generate\" to select the correct visual studio version\n",
    "and build the project files.\n",
    "\n",
    "<font size=4>Using the VS project files</font>\n",
    "\n",
    "The Visual Studio project will be called METIS.sln. Open it in Visual\n",
    "Studio. If the configuration is not already \"Release\", set it to\n",
    "\"Release\". Type F7 to build. The METIS library will be in\n",
    "<BINARY_DIR>\\libmetis\\Release and the executable programs will be in\n",
    "<BINARY_DIR>\\programs\\Release. (<BINARY_DIR> will be build\\windows if\n",
    "you used the command line or whatever you choose if using the CMake\n",
    "GUI.)\n"
   ]
  },
  {
   "cell_type": "markdown",
   "metadata": {},
   "source": [
    "##  安裝步驟Install Step: \n",
    "1. (X64 )編輯 metis-5.1.0\\include\\metis.h 裡面的 IDXTYPEWIDTH 修改為64\n",
    "  \n",
    "2. 開啟 command line，並到metis路徑中執行:\n",
    "    >cmake--help  \n",
    "\n",
    "   這時候會跑出一堆generator 的list，如 \"Visual Studio 16 2019\"  \n",
    "   如果沒有，就代表你的Cmake 版本跟 VS 不匹配，要再去找相容的版本  \n",
    "     \n",
    "3. 確認沒問題後，執行:  \n",
    "   > .\\vsgen -G \"Visual Studio 16 2019\"  \n",
    "   \n",
    "   會跑出 <font color=red>Cmake Error: Couldn't create named Visual Studio 16 2019</font>\n",
    "4. 研究了一下，將環境變數的路徑中Cmake 的路徑順訊提前可以解決這個問題\n",
    "5. 回到step 3. ，重新執行指令，會發現沒有報錯\n",
    "   但是metis-5.1.0/ build/ windows /裡面仍然是空的\n",
    "6. 將指令修改為:  \n",
    "   > <font color=red>.\\vsgen -G \"Visual Studio 16 2019\" -A x64</font>  \n",
    "\n",
    "   就會正常建立了\n",
    "7. 用VS 把 metis-5.1.0/build/windowns/METIS.sln 打開，我安裝的結果方案組態(configuration)就已經是Release的狀態了"
   ]
  },
  {
   "cell_type": "code",
   "execution_count": null,
   "metadata": {},
   "outputs": [],
   "source": []
  }
 ],
 "metadata": {
  "kernelspec": {
   "display_name": "Python 3",
   "language": "python",
   "name": "python3"
  },
  "language_info": {
   "codemirror_mode": {
    "name": "ipython",
    "version": 3
   },
   "file_extension": ".py",
   "mimetype": "text/x-python",
   "name": "python",
   "nbconvert_exporter": "python",
   "pygments_lexer": "ipython3",
   "version": "3.7.4"
  }
 },
 "nbformat": 4,
 "nbformat_minor": 2
}
